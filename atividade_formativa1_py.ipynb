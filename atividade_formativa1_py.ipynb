{
  "nbformat": 4,
  "nbformat_minor": 0,
  "metadata": {
    "colab": {
      "provenance": [],
      "authorship_tag": "ABX9TyM/hDI+mxn8D+WsrNd6+ywC",
      "include_colab_link": true
    },
    "kernelspec": {
      "name": "python3",
      "display_name": "Python 3"
    },
    "language_info": {
      "name": "python"
    }
  },
  "cells": [
    {
      "cell_type": "markdown",
      "metadata": {
        "id": "view-in-github",
        "colab_type": "text"
      },
      "source": [
        "<a href=\"https://colab.research.google.com/github/Isabella2709/Isabella2709/blob/main/atividade_formativa1_py.ipynb\" target=\"_parent\"><img src=\"https://colab.research.google.com/assets/colab-badge.svg\" alt=\"Open In Colab\"/></a>"
      ]
    },
    {
      "cell_type": "code",
      "execution_count": 3,
      "metadata": {
        "colab": {
          "base_uri": "https://localhost:8080/"
        },
        "id": "tBIuSH5wxluF",
        "outputId": "da6f2cd4-7acb-4bcf-e28e-e7c750fa7f55"
      },
      "outputs": [
        {
          "output_type": "stream",
          "name": "stdout",
          "text": [
            "Bem vindo ao sistema academico:\n",
            "================================\n",
            "Bem vindo ao menu principal, por favor escolha a opção desejada: \n",
            " 1. Estudantes \n",
            " 2. Disciplinas \n",
            " 3. Professores \n",
            " 4. Turmas \n",
            " 5. Matriculas \n",
            " 6. Sair \n",
            "1\n",
            "====== [ESTUDANTES] MENU DE OPERAÇÕES ====== \n",
            " 1. Incluir \n",
            " 2. Listar \n",
            " 3. Atualizar \n",
            " 4. Excluir \n",
            " 5. Voltar ao menu inicial\n",
            "===================================\n",
            "Obrigada por ultilizar nosso sistema, esperamos te ver em breve.\n"
          ]
        }
      ],
      "source": [
        "print(\"Bem vindo ao sistema academico:\")\n",
        "print(\"================================\")\n",
        "\n",
        "escolha_menu = int(input(\"Bem vindo ao menu principal, por favor escolha a opção desejada: \\n 1. Estudantes \\n 2. Disciplinas \\n 3. Professores \\n 4. Turmas \\n 5. Matriculas \\n 6. Sair \\n\"))\n",
        "\n",
        "if(escolha_menu == 1):\n",
        "  print(\"====== [ESTUDANTES] MENU DE OPERAÇÕES ====== \\n 1. Incluir \\n 2. Listar \\n 3. Atualizar \\n 4. Excluir \\n 5. Voltar ao menu inicial\")\n",
        "elif(escolha_menu == 2):\n",
        "  print(\"====== [DISCIPLINAS] MENU DE OPERAÇÕES ====== \\n 1. Incluir \\n 2. Listar \\n 3. Atualizar \\n 4. Excluir \\n 5. Voltar ao menu inicial\")\n",
        "elif(escolha_menu == 3):\n",
        "  print(\"====== [PROFESSORES] MENU DE OPERAÇÕES ====== \\n 1. Incluir \\n 2. Listar \\n 3. Atualizar \\n 4. Excluir \\n 5. Voltar ao menu inicial\")\n",
        "elif(escolha_menu == 4):\n",
        "  print(\"====== [TURMAS] MENU DE OPERAÇÕES ====== \\n 1. Incluir \\n 2. Listar \\n 3. Atualizar \\n 4. Excluir \\n 5. Voltar ao menu inicial\")\n",
        "elif(escolha_menu == 5):\n",
        "  print(\"====== [MATRICULAS] MENU DE OPERAÇÕES ====== \\n 1. Incluir \\n 2. Listar \\n 3. Atualizar \\n 4. Excluir \\n 5. Voltar ao menu inicial\")\n",
        "elif(escolha_menu == 6):\n",
        "  print(\"Voltando ao menu inicial.\")\n",
        "else:\n",
        "  print(\"Opção invalida, por favor informe um numero valido, você sera direcionado para o menu inicial.\")\n",
        "\n",
        "print(\"===================================\")\n",
        "\n",
        "print(\"Obrigada por ultilizar nosso sistema, esperamos te ver em breve.\")\n",
        "\n"
      ]
    }
  ]
}