{
  "nbformat": 4,
  "nbformat_minor": 0,
  "metadata": {
    "colab": {
      "provenance": [],
      "authorship_tag": "ABX9TyO8T6VwCBbpDcSVXrKry+5t",
      "include_colab_link": true
    },
    "kernelspec": {
      "name": "python3",
      "display_name": "Python 3"
    },
    "language_info": {
      "name": "python"
    }
  },
  "cells": [
    {
      "cell_type": "markdown",
      "metadata": {
        "id": "view-in-github",
        "colab_type": "text"
      },
      "source": [
        "<a href=\"https://colab.research.google.com/github/Isabella2709/Isabella2709/blob/main/atividade_formativa2_py.ipynb\" target=\"_parent\"><img src=\"https://colab.research.google.com/assets/colab-badge.svg\" alt=\"Open In Colab\"/></a>"
      ]
    },
    {
      "cell_type": "code",
      "execution_count": 40,
      "metadata": {
        "colab": {
          "base_uri": "https://localhost:8080/",
          "height": 426
        },
        "id": "tBIuSH5wxluF",
        "outputId": "22dbda5b-2fef-48e9-a036-24ecf368ed4a"
      },
      "outputs": [
        {
          "output_type": "stream",
          "name": "stdout",
          "text": [
            "Bem vindo ao sistema academico:\n",
            "================================\n",
            "Deseja começar a fazer operações? (S - Fazer operações / N - para sair): N\n",
            "Opção invalida\n"
          ]
        },
        {
          "output_type": "error",
          "ename": "KeyboardInterrupt",
          "evalue": "Interrupted by user",
          "traceback": [
            "\u001b[0;31m---------------------------------------------------------------------------\u001b[0m",
            "\u001b[0;31mKeyboardInterrupt\u001b[0m                         Traceback (most recent call last)",
            "\u001b[0;32m<ipython-input-40-943f6c80c90b>\u001b[0m in \u001b[0;36m<cell line: 7>\u001b[0;34m()\u001b[0m\n\u001b[1;32m      7\u001b[0m \u001b[0;32mif\u001b[0m\u001b[0;34m(\u001b[0m\u001b[0moperacao\u001b[0m \u001b[0;34m!=\u001b[0m \u001b[0;34m\"N\"\u001b[0m \u001b[0;32mor\u001b[0m \u001b[0moperacao\u001b[0m \u001b[0;34m!=\u001b[0m \u001b[0;34m\"S\"\u001b[0m\u001b[0;34m)\u001b[0m\u001b[0;34m:\u001b[0m\u001b[0;34m\u001b[0m\u001b[0;34m\u001b[0m\u001b[0m\n\u001b[1;32m      8\u001b[0m   \u001b[0mprint\u001b[0m\u001b[0;34m(\u001b[0m\u001b[0;34m\"Opção invalida\"\u001b[0m\u001b[0;34m)\u001b[0m\u001b[0;34m\u001b[0m\u001b[0;34m\u001b[0m\u001b[0m\n\u001b[0;32m----> 9\u001b[0;31m   \u001b[0moperacao\u001b[0m \u001b[0;34m=\u001b[0m \u001b[0mstr\u001b[0m\u001b[0;34m(\u001b[0m\u001b[0minput\u001b[0m\u001b[0;34m(\u001b[0m\u001b[0;34m\"Deseja começar a fazer operações? (S - Fazer operações / N - para sair): \"\u001b[0m\u001b[0;34m)\u001b[0m\u001b[0;34m)\u001b[0m\u001b[0;34m\u001b[0m\u001b[0;34m\u001b[0m\u001b[0m\n\u001b[0m\u001b[1;32m     10\u001b[0m   \u001b[0moperacao\u001b[0m \u001b[0;34m=\u001b[0m \u001b[0moperacao\u001b[0m\u001b[0;34m.\u001b[0m\u001b[0mupper\u001b[0m\u001b[0;34m(\u001b[0m\u001b[0;34m)\u001b[0m\u001b[0;34m\u001b[0m\u001b[0;34m\u001b[0m\u001b[0m\n\u001b[1;32m     11\u001b[0m \u001b[0;34m\u001b[0m\u001b[0m\n",
            "\u001b[0;32m/usr/local/lib/python3.10/dist-packages/ipykernel/kernelbase.py\u001b[0m in \u001b[0;36mraw_input\u001b[0;34m(self, prompt)\u001b[0m\n\u001b[1;32m    849\u001b[0m                 \u001b[0;34m\"raw_input was called, but this frontend does not support input requests.\"\u001b[0m\u001b[0;34m\u001b[0m\u001b[0;34m\u001b[0m\u001b[0m\n\u001b[1;32m    850\u001b[0m             )\n\u001b[0;32m--> 851\u001b[0;31m         return self._input_request(str(prompt),\n\u001b[0m\u001b[1;32m    852\u001b[0m             \u001b[0mself\u001b[0m\u001b[0;34m.\u001b[0m\u001b[0m_parent_ident\u001b[0m\u001b[0;34m,\u001b[0m\u001b[0;34m\u001b[0m\u001b[0;34m\u001b[0m\u001b[0m\n\u001b[1;32m    853\u001b[0m             \u001b[0mself\u001b[0m\u001b[0;34m.\u001b[0m\u001b[0m_parent_header\u001b[0m\u001b[0;34m,\u001b[0m\u001b[0;34m\u001b[0m\u001b[0;34m\u001b[0m\u001b[0m\n",
            "\u001b[0;32m/usr/local/lib/python3.10/dist-packages/ipykernel/kernelbase.py\u001b[0m in \u001b[0;36m_input_request\u001b[0;34m(self, prompt, ident, parent, password)\u001b[0m\n\u001b[1;32m    893\u001b[0m             \u001b[0;32mexcept\u001b[0m \u001b[0mKeyboardInterrupt\u001b[0m\u001b[0;34m:\u001b[0m\u001b[0;34m\u001b[0m\u001b[0;34m\u001b[0m\u001b[0m\n\u001b[1;32m    894\u001b[0m                 \u001b[0;31m# re-raise KeyboardInterrupt, to truncate traceback\u001b[0m\u001b[0;34m\u001b[0m\u001b[0;34m\u001b[0m\u001b[0m\n\u001b[0;32m--> 895\u001b[0;31m                 \u001b[0;32mraise\u001b[0m \u001b[0mKeyboardInterrupt\u001b[0m\u001b[0;34m(\u001b[0m\u001b[0;34m\"Interrupted by user\"\u001b[0m\u001b[0;34m)\u001b[0m \u001b[0;32mfrom\u001b[0m \u001b[0;32mNone\u001b[0m\u001b[0;34m\u001b[0m\u001b[0;34m\u001b[0m\u001b[0m\n\u001b[0m\u001b[1;32m    896\u001b[0m             \u001b[0;32mexcept\u001b[0m \u001b[0mException\u001b[0m \u001b[0;32mas\u001b[0m \u001b[0me\u001b[0m\u001b[0;34m:\u001b[0m\u001b[0;34m\u001b[0m\u001b[0;34m\u001b[0m\u001b[0m\n\u001b[1;32m    897\u001b[0m                 \u001b[0mself\u001b[0m\u001b[0;34m.\u001b[0m\u001b[0mlog\u001b[0m\u001b[0;34m.\u001b[0m\u001b[0mwarning\u001b[0m\u001b[0;34m(\u001b[0m\u001b[0;34m\"Invalid Message:\"\u001b[0m\u001b[0;34m,\u001b[0m \u001b[0mexc_info\u001b[0m\u001b[0;34m=\u001b[0m\u001b[0;32mTrue\u001b[0m\u001b[0;34m)\u001b[0m\u001b[0;34m\u001b[0m\u001b[0;34m\u001b[0m\u001b[0m\n",
            "\u001b[0;31mKeyboardInterrupt\u001b[0m: Interrupted by user"
          ]
        }
      ],
      "source": [
        "print(\"Bem vindo ao sistema academico:\")\n",
        "print(\"================================\")\n",
        "\n",
        "operacao = str(input(\"Deseja começar a fazer operações? (S - Fazer operações / N - para sair): \"))\n",
        "operacao = operacao.upper()\n",
        "\n",
        "if(operacao != \"N\" or operacao != \"S\"):\n",
        "  print(\"Opção invalida\")\n",
        "  operacao = str(input(\"Deseja começar a fazer operações? (S - Fazer operações / N - para sair): \"))\n",
        "  operacao = operacao.upper()\n",
        "\n",
        "\n",
        "\n",
        "while(operacao == \"S\"):\n",
        "\n",
        "  escolha_menu = int(input(\"Bem vindo ao menu principal, por favor escolha a opção desejada: \\n 1. Estudantes \\n 2. Disciplinas \\n 3. Professores \\n 4. Turmas \\n 5. Matriculas \\n 6. Sair \\n\"))\n",
        "\n",
        "  if(escolha_menu == 1):\n",
        "   print(\"====== [ESTUDANTES] MENU DE OPERAÇÕES ====== \\n 1. Incluir \\n 2. Listar \\n 3. Atualizar \\n 4. Excluir \\n 5. Voltar ao menu inicial\")\n",
        "  elif(escolha_menu == 2):\n",
        "   print(\"====== [DISCIPLINAS] MENU DE OPERAÇÕES ====== \\n 1. Incluir \\n 2. Listar \\n 3. Atualizar \\n 4. Excluir \\n 5. Voltar ao menu inicial\")\n",
        "  elif(escolha_menu == 3):\n",
        "   print(\"====== [PROFESSORES] MENU DE OPERAÇÕES ====== \\n 1. Incluir \\n 2. Listar \\n 3. Atualizar \\n 4. Excluir \\n 5. Voltar ao menu inicial\")\n",
        "  elif(escolha_menu == 4):\n",
        "   print(\"====== [TURMAS] MENU DE OPERAÇÕES ====== \\n 1. Incluir \\n 2. Listar \\n 3. Atualizar \\n 4. Excluir \\n 5. Voltar ao menu inicial\")\n",
        "  elif(escolha_menu == 5):\n",
        "   print(\"====== [MATRICULAS] MENU DE OPERAÇÕES ====== \\n 1. Incluir \\n 2. Listar \\n 3. Atualizar \\n 4. Excluir \\n 5. Voltar ao menu inicial\")\n",
        "  elif(escolha_menu == 6):\n",
        "   print(\"Obrigada por ultilizar nosso sistema, esperamos te ver em breve.\")\n",
        "  else:\n",
        "   print(\"Opção invalida, por favor informe um numero valido, você sera direcionado para o menu inicial.\")\n",
        "  operacao = str(input(\"Deseja começar a fazer operações? (S - Fazer operações e N para sair): \"))\n",
        "  operacao = operacao.upper()\n",
        "\n",
        "  if(operacao == \"N\"):\n",
        "   print(\"Bem vindo de volta ao menu do sistema academico\")\n",
        "   operacao = str(input(\"Deseja começar a fazer operações novamente? (S - Fazer operações e N para sair): \"))\n",
        "   operacao = operacao.upper()\n",
        "\n",
        "print(\"===================================\")\n",
        "\n",
        "\n",
        "\n"
      ]
    },
    {
      "cell_type": "markdown",
      "source": [],
      "metadata": {
        "id": "0xTOshPEXsaZ"
      }
    },
    {
      "cell_type": "code",
      "source": [],
      "metadata": {
        "id": "dZwefZ-JXtT3"
      },
      "execution_count": null,
      "outputs": []
    }
  ]
}